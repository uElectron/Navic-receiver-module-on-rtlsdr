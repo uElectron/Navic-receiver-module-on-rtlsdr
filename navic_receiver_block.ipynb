{
 "cells": [
  {
   "cell_type": "markdown",
   "metadata": {},
   "source": [
    "## Navic Receiver Block"
   ]
  },
  {
   "cell_type": "code",
   "execution_count": 1,
   "metadata": {},
   "outputs": [],
   "source": [
    "import numpy as np\n",
    "from numpy import pi\n",
    "import matplotlib.pyplot as plt\n",
    "%matplotlib inline"
   ]
  },
  {
   "cell_type": "code",
   "execution_count": 2,
   "metadata": {},
   "outputs": [],
   "source": [
    "from navicCAcodegen import genNavicCaCode as genCaCode\n",
    "from navicCAcodegen import genNavicCaTable as genCaTable"
   ]
  },
  {
   "cell_type": "markdown",
   "metadata": {},
   "source": [
    "### Initializations or Params"
   ]
  },
  {
   "cell_type": "code",
   "execution_count": 3,
   "metadata": {},
   "outputs": [],
   "source": [
    "## Initialize block\n",
    "msToProcess = int(40*1000)\n",
    "numberOfChannels = 8\n",
    "skipNumberOfBytes = 0\n",
    "\n",
    "Gain = 2 # 1000\n",
    "\n",
    "dataType = 'float32' # 'int8' # 'float32'\n",
    "\n",
    "## sampled at 2.4MHz ie. Mega Samples per Second\n",
    "samplingFreq = 2.4e6 # 2.4e6 \n",
    "codeFreqBasis = 1023000.0\n",
    "codeLength = 1023\n",
    "\n",
    "Ts = 1/samplingFreq\n",
    "\n",
    "prnTot = 14 # 14 for Navic 32 for GPS\n",
    "acqSatelliteList = range(1, prnTot+1)\n",
    "acqSearchBand = 14e3 ##  In Hz for balancing Doppler shift in freq\n",
    "acqThreshold = 1.5 # 2.5\n",
    "\n",
    "## required for seeking in tracking module\n",
    "bytes_per_sample = 4\n",
    "\n",
    "\n",
    "## Code Tracking params\n",
    "dllDampingRatio = 0.7\n",
    "dllNoiseBandwidth = 5.0 # 2.0\n",
    "dllCorrelatorSpacing = 0.5\n",
    "\n",
    "## Carrier tracking loop parameters\n",
    "pllDampingRatio = 0.5\n",
    "pllNoiseBandwidth = 30.0\n",
    "\n",
    "# Period for calculating pseudoranges and position\n",
    "navSolPeriod = 500.0 ## Corresponding to 50 bits/sec\n",
    "elevationMask = 10.0\n",
    "useTropCorr = True\n",
    "truePosition = (np.nan,np.nan,np.nan)\n",
    "\n",
    "## Some constant values\n",
    "c = 299792458.0\n",
    "startOffset = 0 #0 # 68.802\n",
    "\n",
    "## Derived constants\n",
    "samplesPerCode = np.long(np.round(samplingFreq / (codeFreqBasis / codeLength)))\n"
   ]
  },
  {
   "cell_type": "markdown",
   "metadata": {},
   "source": [
    "## SDR front end part"
   ]
  },
  {
   "cell_type": "code",
   "execution_count": 4,
   "metadata": {},
   "outputs": [],
   "source": [
    "file_i_dat = '/home/udhay/data/workspace/NavIC_receiver/raichur_data_rtlsdr/NavicL1_I_samp_120sec.bin'\n",
    "file_q_dat = '/home/udhay/data/workspace/NavIC_receiver/raichur_data_rtlsdr/NavicL1_Q_samp_120sec.bin'"
   ]
  },
  {
   "cell_type": "markdown",
   "metadata": {},
   "source": [
    "### Acquisition using Parallel Code Phase Search Acquisition"
   ]
  },
  {
   "cell_type": "code",
   "execution_count": 7,
   "metadata": {},
   "outputs": [],
   "source": [
    "## Implementing Parallel Code Phase Search Acquisition\n",
    "\n",
    "caCodeTable = genCaTable(samplingFreq)\n",
    "## Get small time frame data\n",
    "i_data = np.fromfile(file_i_dat,dataType,count=2*samplesPerCode)\n",
    "q_data = np.fromfile(file_q_dat,dataType,count=2*samplesPerCode)\n",
    "\n",
    "i_data[i_data<0] = -10\n",
    "i_data[i_data>=0] = 10\n",
    "\n",
    "q_data[q_data<0] = -10\n",
    "q_data[q_data>=0] = 10\n",
    "\n",
    "x_t = Gain * (i_data + 1j * q_data)\n",
    "\n",
    "#x_t = (i_data - i_data.mean()) + 1j * (q_data - q_data.mean())\n",
    "\n",
    "#x_t = x_t[:int(2**14)]"
   ]
  },
  {
   "cell_type": "code",
   "execution_count": 8,
   "metadata": {},
   "outputs": [
    {
     "data": {
      "text/plain": [
       "[<matplotlib.lines.Line2D at 0x7f960d2d88b0>]"
      ]
     },
     "execution_count": 8,
     "metadata": {},
     "output_type": "execute_result"
    },
    {
     "data": {
      "image/png": "[encoded data removed]",
      "text/plain": [
       "<Figure size 432x288 with 1 Axes>"
      ]
     },
     "metadata": {
      "needs_background": "light"
     },
     "output_type": "display_data"
    }
   ],
   "source": [
    "plt.plot(x_t[:100].real,'.')"
   ]
  },
  {
   "cell_type": "code",
   "execution_count": 9,
   "metadata": {},
   "outputs": [],
   "source": [
    "def acquisition(PRN):\n",
    "        caCode = caCodeTable[PRN,:]\n",
    "        H_f = np.fft.fft(caCode).conj()\n",
    "\n",
    "        n = np.arange(0,len(x_t))\n",
    "        t_omega = 1j*2*pi*Ts*n\n",
    "        \n",
    "        results = np.zeros((len(freqBins),samplesPerCode))\n",
    "        for findex in range(len(freqBins)):\n",
    "            fd = freqBins[findex]\n",
    "            g_t = x_t * np.exp(fd*t_omega)\n",
    "            G1_f = np.fft.fft(g_t[:samplesPerCode])\n",
    "            G2_f = np.fft.fft(g_t[:samplesPerCode])\n",
    "            Y1_f = G1_f * H_f\n",
    "            Y2_f = G2_f * H_f\n",
    "            s1_t = abs(np.fft.ifft(Y1_f))**2\n",
    "            s2_t = abs(np.fft.ifft(Y2_f))**2\n",
    "            if s1_t.max() >= s2_t.max():\n",
    "                results[findex] = s1_t\n",
    "            else:\n",
    "                results[findex] = s2_t\n",
    "        ## For Peak metric\n",
    "        frequencyBinIndex = results.max(1).argmax()\n",
    "        peakSize = results.max(0).max()\n",
    "        codePhase = results.max(0).argmax()\n",
    "        samplesPerCodeChip = np.longlong(round(samplingFreq/codeFreqBasis))\n",
    "        ## Get the peak from remaining sig power\n",
    "        excludeRangeIndex1 = codePhase - samplesPerCodeChip\n",
    "        excludeRangeIndex2 = codePhase + samplesPerCodeChip\n",
    "        if excludeRangeIndex1 <= 0:\n",
    "            codePhaseRange = np.r_[excludeRangeIndex2:samplesPerCode + excludeRangeIndex1 + 1]\n",
    "\n",
    "        elif excludeRangeIndex2 >= samplesPerCode - 1:\n",
    "            codePhaseRange = np.r_[excludeRangeIndex2 - samplesPerCode:excludeRangeIndex1]\n",
    "\n",
    "        else:\n",
    "            codePhaseRange = np.r_[0:excludeRangeIndex1 + 1, excludeRangeIndex2:samplesPerCode]\n",
    "\n",
    "        ## Calculate peak metric\n",
    "        secondPeakSize = results[frequencyBinIndex, codePhaseRange].max()\n",
    "        print(f'firstPeak = {peakSize} , secondPeak = {secondPeakSize}')\n",
    "        peakMetric[PRN] = peakSize / secondPeakSize\n",
    "        ## Acquisition Result for each PRN\n",
    "        if peakMetric[PRN] >= acqThreshold:\n",
    "            codePhase_[PRN] = codePhase\n",
    "            carrFreq[PRN] = freqBins[frequencyBinIndex]"
   ]
  },
  {
   "cell_type": "code",
   "execution_count": 10,
   "metadata": {},
   "outputs": [
    {
     "name": "stdout",
     "output_type": "stream",
     "text": [
      "firstPeak = 25398534.63359537 , secondPeak = 16690440.990901574\n",
      "firstPeak = 24752560.066268332 , secondPeak = 14280857.107571963\n",
      "firstPeak = 26259282.347832646 , secondPeak = 13186344.916658588\n",
      "firstPeak = 23201741.983238008 , secondPeak = 16741155.278784389\n",
      "firstPeak = 24572514.479839887 , secondPeak = 20945593.913220827\n",
      "firstPeak = 26884446.301375117 , secondPeak = 12873805.76014831\n",
      "firstPeak = 23861383.89796119 , secondPeak = 17662617.81345564\n",
      "firstPeak = 27370389.024455026 , secondPeak = 16274939.289470414\n",
      "firstPeak = 27135113.605787218 , secondPeak = 18111094.5447838\n",
      "firstPeak = 23792003.90846893 , secondPeak = 12904751.365619864\n",
      "firstPeak = 23298312.728742965 , secondPeak = 16767233.39876163\n",
      "firstPeak = 24051532.9223821 , secondPeak = 14694590.072963096\n",
      "firstPeak = 26986983.449044034 , secondPeak = 17305351.441131245\n",
      "firstPeak = 25738216.405084886 , secondPeak = 15486614.527138112\n"
     ]
    }
   ],
   "source": [
    "freqBins = np.int16(np.arange(-acqSearchBand//2,acqSearchBand//2 + 1,step=50))\n",
    "\n",
    "# Carrier frequencies of detected signals\n",
    "carrFreq = np.zeros(prnTot)\n",
    "\n",
    "# C/A code phases of detected signals\n",
    "codePhase_ = np.zeros(prnTot)\n",
    "\n",
    "# Correlation peak ratios of the detected signals\n",
    "peakMetric = np.zeros(prnTot)\n",
    "\n",
    "## Call Acquisiton routine\n",
    "for PRN in range(prnTot):\n",
    "    acquisition(PRN)"
   ]
  },
  {
   "cell_type": "code",
   "execution_count": 11,
   "metadata": {},
   "outputs": [
    {
     "name": "stdout",
     "output_type": "stream",
     "text": [
      "Acquisition Results are :\n",
      "For PRN : 0 , CodePhase = 1912.0 , Peak Metric = 1.5217413756437483 and Doppler Freq = -5000.0 \n",
      "For PRN : 1 , CodePhase = 1844.0 , Peak Metric = 1.7332685202167653 and Doppler Freq = 4050.0 \n",
      "For PRN : 2 , CodePhase = 2182.0 , Peak Metric = 1.9913996269473235 and Doppler Freq = 4650.0 \n",
      "For PRN : 5 , CodePhase = 1176.0 , Peak Metric = 2.0883060380324863 and Doppler Freq = 5800.0 \n",
      "For PRN : 7 , CodePhase = 609.0 , Peak Metric = 1.6817506067235017 and Doppler Freq = -3050.0 \n",
      "For PRN : 9 , CodePhase = 1092.0 , Peak Metric = 1.8436623251691846 and Doppler Freq = 3500.0 \n",
      "For PRN : 11 , CodePhase = 468.0 , Peak Metric = 1.6367610666890975 and Doppler Freq = -1700.0 \n",
      "For PRN : 12 , CodePhase = 1613.0 , Peak Metric = 1.5594588495268318 and Doppler Freq = 6400.0 \n",
      "For PRN : 13 , CodePhase = 1984.0 , Peak Metric = 1.6619653288317007 and Doppler Freq = 3900.0 \n"
     ]
    }
   ],
   "source": [
    "## Print Acquisition result:\n",
    "print(\"Acquisition Results are :\")\n",
    "\n",
    "for PRN in range(prnTot):\n",
    "    if peakMetric[PRN] >= acqThreshold:\n",
    "            print(f'For PRN : {PRN} , CodePhase = {codePhase_[PRN]} , Peak Metric = {peakMetric[PRN]} and Doppler Freq = {carrFreq[PRN]} ')"
   ]
  },
  {
   "cell_type": "markdown",
   "metadata": {},
   "source": [
    "### Preparing for Tracking"
   ]
  },
  {
   "cell_type": "code",
   "execution_count": 12,
   "metadata": {},
   "outputs": [],
   "source": [
    "## Sort the PRN according to Peak Metric (approx signal strength)\n",
    "PRNindexes = sorted(enumerate(peakMetric),key=lambda x: x[-1], reverse=True)\n",
    "\n",
    "## Total satellites we consider for tracking\n",
    "sat_in_View = min(numberOfChannels,sum(peakMetric>=acqThreshold))\n",
    "\n",
    "## Store the Tracking Sat PRN nums\n",
    "PRN = np.zeros(sat_in_View,dtype=np.int)\n",
    "acquiredFreq = np.zeros(sat_in_View)\n",
    "codePhase = np.zeros(sat_in_View,dtype=np.int)\n",
    "status = ['-' for _ in range(sat_in_View)]\n",
    "\n",
    "for i in range(sat_in_View):\n",
    "    sat_prn = PRNindexes[i][0]\n",
    "    ## Actual Sat Number starts from 1\n",
    "    PRN[i] = sat_prn + 1\n",
    "    acquiredFreq[i] = carrFreq[sat_prn]\n",
    "    codePhase[i] = codePhase_[sat_prn]\n",
    "    status[i] = 'T'\n",
    "\n",
    "## Create a channel data structure for easy access\n",
    "channel = np.core.records.fromarrays([PRN, acquiredFreq, codePhase, status],\n",
    "                                             names='PRN,acquiredFreq,codePhase,status')"
   ]
  },
  {
   "cell_type": "code",
   "execution_count": 13,
   "metadata": {},
   "outputs": [],
   "source": [
    "# calcLoopCoef.m\n",
    "def calcLoopCoef(LBW, zeta, k):\n",
    "    # Function finds loop coefficients. The coefficients are used then in PLL-s\n",
    "    # and DLL-s.\n",
    "    # [tau1, tau2] = calcLoopCoef(LBW, zeta, k)\n",
    "    #   Inputs:\n",
    "    #       LBW           - Loop noise bandwidth\n",
    "    #       zeta          - Damping ratio\n",
    "    #       k             - Loop gain\n",
    "    #   Outputs:\n",
    "    #       tau1, tau2   - Loop filter coefficients\n",
    "    \n",
    "    # Solve for natural frequency\n",
    "    Wn = LBW * 8.0 * zeta / (4.0 * zeta ** 2 + 1)\n",
    "\n",
    "    # solve for t1 & t2\n",
    "    tau1 = k / (Wn * Wn)\n",
    "\n",
    "    tau2 = 2.0 * zeta / Wn\n",
    "\n",
    "    return tau1, tau2"
   ]
  },
  {
   "cell_type": "code",
   "execution_count": 15,
   "metadata": {},
   "outputs": [],
   "source": [
    "## Initialize Tracking variables\n",
    "codePeriods = msToProcess\n",
    "\n",
    "# --- DLL variables -----\n",
    "# Define early-late offset (in chips)\n",
    "earlyLateSpc = dllCorrelatorSpacing\n",
    "\n",
    "# Summation interval\n",
    "PDIcode = 0.001\n",
    "\n",
    "# Calculate filter coefficient values\n",
    "tau1code, tau2code = calcLoopCoef(dllNoiseBandwidth, dllDampingRatio, 1.0)\n",
    "\n",
    "# --- PLL variables --------------------------------------------------------\n",
    "# Summation interval\n",
    "PDIcarr = 0.001\n",
    "\n",
    "# Calculate filter coefficient values\n",
    "tau1carr, tau2carr = calcLoopCoef(pllNoiseBandwidth, pllDampingRatio, 0.25)\n",
    "\n",
    "\n",
    "# Initialize a temporary list of records\n",
    "rec = []"
   ]
  },
  {
   "cell_type": "code",
   "execution_count": 16,
   "metadata": {},
   "outputs": [
    {
     "data": {
      "text/plain": [
       "datetime.datetime(2021, 5, 2, 12, 22, 36, 287107)"
      ]
     },
     "execution_count": 16,
     "metadata": {},
     "output_type": "execute_result"
    }
   ],
   "source": [
    "## Start time is stored in file creation time itself\n",
    "import pathlib,datetime\n",
    "startTime = datetime.datetime.fromtimestamp(pathlib.Path(file_i_dat).stat().st_mtime)\n",
    "startTime"
   ]
  },
  {
   "cell_type": "markdown",
   "metadata": {},
   "source": [
    "### Tracking Starts !"
   ]
  },
  {
   "cell_type": "code",
   "execution_count": 23,
   "metadata": {},
   "outputs": [
    {
     "name": "stdout",
     "output_type": "stream",
     "text": [
      "Tracking started for :1 of 8 ; PRN is 6 in progress#################################################################################################### Done\n",
      "Tracking started for :2 of 8 ; PRN is 3 in progress#################################################################################################### Done\n",
      "Tracking started for :3 of 8 ; PRN is 10 in progress#################################################################################################### Done\n",
      "Tracking started for :4 of 8 ; PRN is 2 in progress#################################################################################################### Done\n",
      "Tracking started for :5 of 8 ; PRN is 8 in progress#################################################################################################### Done\n",
      "Tracking started for :6 of 8 ; PRN is 14 in progress#################################################################################################### Done\n",
      "Tracking started for :7 of 8 ; PRN is 12 in progress#################################################################################################### Done\n",
      "Tracking started for :8 of 8 ; PRN is 13 in progress#################################################################################################### Done\n",
      "\n",
      "Tracking Process is Completed\n"
     ]
    }
   ],
   "source": [
    "# Start processing channels\n",
    "\n",
    "## open the whole if samples file for processing\n",
    "ifid = open(file_i_dat,'rb')\n",
    "qfid = open(file_q_dat,'rb')\n",
    "\n",
    "for channelNr in range(sat_in_View):\n",
    "    # Initialize fields for record(structured) array of tracked results\n",
    "    status = '-'\n",
    "\n",
    "    # The absolute sample in the record of the C/A code start:\n",
    "    absoluteSample = np.zeros(msToProcess)\n",
    "\n",
    "    # Freq of the C/A code:\n",
    "    codeFreq_ = np.Inf * np.ones(msToProcess)\n",
    "\n",
    "    # Frequency of the tracked carrier wave:\n",
    "    carrFreq_ = np.Inf * np.ones(msToProcess)\n",
    "\n",
    "    # Outputs from the correlators (In-phase):\n",
    "    I_P_ = np.zeros(msToProcess)\n",
    "\n",
    "    I_E_ = np.zeros(msToProcess)\n",
    "\n",
    "    I_L_ = np.zeros(msToProcess)\n",
    "\n",
    "    # Outputs from the correlators (Quadrature-phase):\n",
    "    Q_E_ = np.zeros(msToProcess)\n",
    "\n",
    "    Q_P_ = np.zeros(msToProcess)\n",
    "\n",
    "    Q_L_ = np.zeros(msToProcess)\n",
    "\n",
    "    # Loop discriminators\n",
    "    dllDiscr = np.Inf * np.ones(msToProcess)\n",
    "\n",
    "    dllDiscrFilt = np.Inf * np.ones(msToProcess)\n",
    "\n",
    "    pllDiscr = np.Inf * np.ones(msToProcess)\n",
    "\n",
    "    pllDiscrFilt = np.Inf * np.ones(msToProcess)\n",
    "\n",
    "    PRN = 0\n",
    "\n",
    "    # Only process if PRN is non zero (acquisition was successful)\n",
    "    if channel[channelNr].PRN != 0:\n",
    "        # Save additional information - each channel's tracked PRN\n",
    "        PRN = channel[channelNr].PRN\n",
    "\n",
    "        # continue signal processing at any point in the data record (e.g. for long\n",
    "        # records). In addition skip through that data file to start at the\n",
    "        # appropriate sample (corresponding to code phase). Assumes sample\n",
    "        # type is schar (or 1 byte per sample)\n",
    "        ifid.seek(skipNumberOfBytes * bytes_per_sample + channel[channelNr].codePhase * bytes_per_sample, 0)\n",
    "        qfid.seek(skipNumberOfBytes * bytes_per_sample + channel[channelNr].codePhase * bytes_per_sample, 0)\n",
    "\n",
    "        # Here PRN is the actual satellite ID instead of the 0-based index\n",
    "        caCode = genCaCode(channel[channelNr].PRN - 1)\n",
    "\n",
    "        caCode = np.r_[caCode[-1], caCode, caCode[0]]\n",
    "\n",
    "        # define initial code frequency basis of NCO\n",
    "        codeFreq = codeFreqBasis\n",
    "\n",
    "        remCodePhase = 0.0\n",
    "\n",
    "        carrFreq = channel[channelNr].acquiredFreq\n",
    "\n",
    "        carrFreqBasis = channel[channelNr].acquiredFreq\n",
    "\n",
    "        remCarrPhase = 0.0\n",
    "\n",
    "        oldCodeNco = 0.0\n",
    "\n",
    "        oldCodeError = 0.0\n",
    "\n",
    "        oldCarrNco = 0.0\n",
    "\n",
    "        oldCarrError = 0.0\n",
    "\n",
    "        for loopCnt in range(np.long(codePeriods)):\n",
    "            if loopCnt == 0:\n",
    "                print(f'Tracking started for :{channelNr+1} of {sat_in_View} ; PRN is {PRN} in progress',end='')\n",
    "\n",
    "            if loopCnt % 400 == 0:\n",
    "                try:\n",
    "                    print('#',end='')        \n",
    "                finally:\n",
    "                    pass\n",
    "            # Read next block of data ------------------------------------------------\n",
    "            # Find the size of a \"block\" or code period in whole samples\n",
    "            # Update the phasestep based on code freq (variable) and\n",
    "            # sampling frequency (fixed)\n",
    "            codePhaseStep = codeFreq / samplingFreq\n",
    "\n",
    "            blksize = np.ceil((codeLength - remCodePhase) / codePhaseStep)\n",
    "            blksize = np.long(blksize)\n",
    "\n",
    "            # interaction\n",
    "            irawSignal = Gain * np.fromfile(ifid, dataType, blksize)\n",
    "            qrawSignal = Gain * np.fromfile(qfid, dataType, blksize)\n",
    "            \n",
    "            samplesRead = len(irawSignal)\n",
    "\n",
    "            # If did not read in enough samples, then could be out of\n",
    "            # data - better exit\n",
    "            if samplesRead != blksize:\n",
    "                print ('Not able to read the specified number of samples for tracking, exiting!')\n",
    "                fid.close()\n",
    "                trackResults = None\n",
    "                break\n",
    "            # Set up all the code phase tracking information -------------------------\n",
    "            # Define index into early code vector\n",
    "            tcode = np.linspace(remCodePhase - earlyLateSpc,\n",
    "                                blksize * codePhaseStep + remCodePhase - earlyLateSpc,\n",
    "                                blksize, endpoint=False)\n",
    "\n",
    "            tcode2 = np.ceil(tcode)\n",
    "\n",
    "            earlyCode = caCode[np.int64(tcode2)]\n",
    "\n",
    "            tcode = np.linspace(remCodePhase + earlyLateSpc,\n",
    "                                blksize * codePhaseStep + remCodePhase + earlyLateSpc,\n",
    "                                blksize, endpoint=False)\n",
    "\n",
    "            tcode2 = np.ceil(tcode)\n",
    "\n",
    "            lateCode = caCode[np.int64(tcode2)]\n",
    "\n",
    "            tcode = np.linspace(remCodePhase,\n",
    "                                blksize * codePhaseStep + remCodePhase,\n",
    "                                blksize, endpoint=False)\n",
    "\n",
    "            tcode2 = np.ceil(tcode)\n",
    "\n",
    "            promptCode = caCode[np.int64(tcode2)]\n",
    "\n",
    "            remCodePhase = tcode[blksize - 1] + codePhaseStep - 1023.0\n",
    "\n",
    "            # Generate the carrier frequency to mix the signal to baseband -----------\n",
    "            time = np.arange(0, blksize + 1)* Ts\n",
    "\n",
    "            trigarg = carrFreq * 2.0 * pi * time + remCarrPhase\n",
    "\n",
    "            remCarrPhase = trigarg[blksize] % (2 * pi)\n",
    "\n",
    "            carrCos = np.cos(trigarg[0:blksize])\n",
    "\n",
    "            carrSin = np.sin(trigarg[0:blksize])\n",
    "\n",
    "            # Generate the six standard accumulated values ---------------------------\n",
    "            # First mix to baseband\n",
    "            iBasebandSignal = irawSignal[:] * carrCos - qrawSignal[:] * carrSin\n",
    "            qBasebandSignal = irawSignal[:] * carrSin + qrawSignal[:] * carrCos\n",
    "            \n",
    "            I_E = (earlyCode * iBasebandSignal).sum()\n",
    "\n",
    "            Q_E = (earlyCode * qBasebandSignal).sum()\n",
    "\n",
    "            I_P = (promptCode * iBasebandSignal).sum()\n",
    "\n",
    "            Q_P = (promptCode * qBasebandSignal).sum()\n",
    "\n",
    "            I_L = (lateCode * iBasebandSignal).sum()\n",
    "\n",
    "            Q_L = (lateCode * qBasebandSignal).sum()\n",
    "\n",
    "            # Find PLL error and update carrier NCO ----------------------------------\n",
    "            # Implement carrier loop discriminator (phase detector)\n",
    "            carrError = np.arctan(Q_P / I_P) % (2.0 * np.pi)\n",
    "\n",
    "            carrNco = oldCarrNco + \\\n",
    "                      tau2carr / tau1carr * (carrError - oldCarrError) + \\\n",
    "                      carrError * (PDIcarr / tau1carr)\n",
    "\n",
    "            oldCarrNco = carrNco\n",
    "\n",
    "            oldCarrError = carrError\n",
    "\n",
    "            carrFreq = carrFreqBasis + carrNco\n",
    "\n",
    "            carrFreq_[loopCnt] = carrFreq\n",
    "\n",
    "            # Find DLL error and update code NCO -------------------------------------\n",
    "            codeError = (np.sqrt(I_E * I_E + Q_E * Q_E) - np.sqrt(I_L * I_L + Q_L * Q_L)) / (\n",
    "                    np.sqrt(I_E * I_E + Q_E * Q_E) + np.sqrt(I_L * I_L + Q_L * Q_L))\n",
    "\n",
    "            codeNco = oldCodeNco + \\\n",
    "                      tau2code / tau1code * (codeError - oldCodeError) + \\\n",
    "                      codeError * (PDIcode / tau1code)\n",
    "\n",
    "            oldCodeNco = codeNco\n",
    "\n",
    "            oldCodeError = codeError\n",
    "\n",
    "            codeFreq = codeFreqBasis - codeNco\n",
    "\n",
    "            codeFreq_[loopCnt] = codeFreq\n",
    "\n",
    "            # Record various measures to show in postprocessing ----------------------\n",
    "            # Record sample number (based on 8bit samples)\n",
    "            absoluteSample[loopCnt] = ifid.tell()\n",
    "\n",
    "            dllDiscr[loopCnt] = codeError\n",
    "\n",
    "            dllDiscrFilt[loopCnt] = codeNco\n",
    "\n",
    "            pllDiscr[loopCnt] = carrError\n",
    "\n",
    "            pllDiscrFilt[loopCnt] = carrNco\n",
    "\n",
    "            I_E_[loopCnt] = I_E\n",
    "\n",
    "            I_P_[loopCnt] = I_P\n",
    "\n",
    "            I_L_[loopCnt] = I_L\n",
    "\n",
    "            Q_E_[loopCnt] = Q_E\n",
    "\n",
    "            Q_P_[loopCnt] = Q_P\n",
    "\n",
    "            Q_L_[loopCnt] = Q_L\n",
    "        print(' Done',end='\\n')\n",
    "        # If we got so far, this means that the tracking was successful\n",
    "        # Now we only copy status, but it can be update by a lock detector\n",
    "        # if implemented\n",
    "        status = channel[channelNr].status\n",
    "        rec.append((status, absoluteSample, codeFreq_, carrFreq_,\n",
    "                    I_P_, I_E_, I_L_, Q_E_, Q_P_, Q_L_,\n",
    "                    dllDiscr, dllDiscrFilt, pllDiscr, pllDiscrFilt, PRN))\n",
    "print('\\nTracking Process is Completed')\n",
    "ifid.close()\n",
    "qfid.close()"
   ]
  },
  {
   "cell_type": "markdown",
   "metadata": {},
   "source": [
    "### Store Tracking results"
   ]
  },
  {
   "cell_type": "code",
   "execution_count": 25,
   "metadata": {},
   "outputs": [
    {
     "name": "stdout",
     "output_type": "stream",
     "text": [
      "Storing of Tracking Data is done for Extracting Navigation Data\n"
     ]
    }
   ],
   "source": [
    "## Store tracking results in a Data structure\n",
    "trackResults = np.rec.fromrecords(rec, dtype=[('status', 'S1'), ('absoluteSample', 'object'), ('codeFreq', 'object'),\n",
    "                                                 ('carrFreq', 'object'), ('I_P', 'object'), ('I_E', 'object'),\n",
    "                                                 ('I_L', 'object'),\n",
    "                                                 ('Q_E', 'object'), ('Q_P', 'object'), ('Q_L', 'object'),\n",
    "                                                 ('dllDiscr', 'object'),\n",
    "                                                 ('dllDiscrFilt', 'object'), ('pllDiscr', 'object'),\n",
    "                                                 ('pllDiscrFilt', 'object'),\n",
    "                                                 ('PRN', 'int64')])\n",
    "np.save('./trackResults.npy',trackResults)\n",
    "print('Storing of Tracking Data is done for Extracting Navigation Data')"
   ]
  }
 ],
 "metadata": {
  "kernelspec": {
   "display_name": "Python 3",
   "language": "python",
   "name": "python3"
  },
  "language_info": {
   "codemirror_mode": {
    "name": "ipython",
    "version": 3
   },
   "file_extension": ".py",
   "mimetype": "text/x-python",
   "name": "python",
   "nbconvert_exporter": "python",
   "pygments_lexer": "ipython3",
   "version": "3.8.3"
  }
 },
 "nbformat": 4,
 "nbformat_minor": 4
}
