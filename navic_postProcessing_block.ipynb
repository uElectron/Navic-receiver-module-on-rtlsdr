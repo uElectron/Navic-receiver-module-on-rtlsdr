{
 "cells": [
  {
   "cell_type": "markdown",
   "metadata": {},
   "source": [
    "## Post Processing Block"
   ]
  },
  {
   "cell_type": "code",
   "execution_count": 1,
   "metadata": {},
   "outputs": [],
   "source": [
    "import numpy as np\n",
    "import matplotlib.pyplot as plt\n",
    "%matplotlib inline"
   ]
  },
  {
   "cell_type": "code",
   "execution_count": 2,
   "metadata": {},
   "outputs": [],
   "source": [
    "numberOfChannels = 8"
   ]
  },
  {
   "cell_type": "markdown",
   "metadata": {},
   "source": [
    "### Post Processing for epherimis Data Extracting"
   ]
  },
  {
   "cell_type": "code",
   "execution_count": 3,
   "metadata": {},
   "outputs": [],
   "source": [
    "## Load the saved Tracking result\n",
    "trackResults = np.load('./trackResults.npy',allow_pickle=True)"
   ]
  },
  {
   "cell_type": "code",
   "execution_count": 4,
   "metadata": {},
   "outputs": [
    {
     "data": {
      "text/plain": [
       "array([b'T', b'T', b'T', b'T', b'T', b'T', b'T', b'T'], dtype='|S1')"
      ]
     },
     "execution_count": 4,
     "metadata": {},
     "output_type": "execute_result"
    }
   ],
   "source": [
    "trackResults.status"
   ]
  },
  {
   "cell_type": "code",
   "execution_count": 5,
   "metadata": {},
   "outputs": [],
   "source": [
    "def navPartyChk(ndat):\n",
    "        \n",
    "        if ndat[1] != 1:\n",
    "            ndat[2:26] *= (-1)\n",
    "\n",
    "        # --- Calculate 6 parity bits ----------------------------------------------\n",
    "        # The elements of the ndat array correspond to the bits showed in the table\n",
    "        # 20-XIV (ICD-200C document) in the following way:\n",
    "        # The first element in the ndat is the D29* bit and the second - D30*.\n",
    "        # The elements 3 - 26 are bits d1-d24 in the table.\n",
    "        # The elements 27 - 32 in the ndat array are the received bits D25-D30.\n",
    "        # The array \"parity\" contains the computed D25-D30 (parity) bits.\n",
    "        parity = np.zeros(6)\n",
    "        parity[0] = ndat[0] * ndat[2] * ndat[3] * ndat[4] * ndat[6] * \\\n",
    "                    ndat[7] * ndat[11] * ndat[12] * ndat[13] * ndat[14] * \\\n",
    "                    ndat[15] * ndat[18] * ndat[19] * ndat[21] * ndat[24]\n",
    "\n",
    "        parity[1] = ndat[1] * ndat[3] * ndat[4] * ndat[5] * ndat[7] * \\\n",
    "                    ndat[8] * ndat[12] * ndat[13] * ndat[14] * ndat[15] * \\\n",
    "                    ndat[16] * ndat[19] * ndat[20] * ndat[22] * ndat[25]\n",
    "\n",
    "        parity[2] = ndat[0] * ndat[2] * ndat[4] * ndat[5] * ndat[6] * \\\n",
    "                    ndat[8] * ndat[9] * ndat[13] * ndat[14] * ndat[15] * \\\n",
    "                    ndat[16] * ndat[17] * ndat[20] * ndat[21] * ndat[23]\n",
    "\n",
    "        parity[3] = ndat[1] * ndat[3] * ndat[5] * ndat[6] * ndat[7] * \\\n",
    "                    ndat[9] * ndat[10] * ndat[14] * ndat[15] * ndat[16] * \\\n",
    "                    ndat[17] * ndat[18] * ndat[21] * ndat[22] * ndat[24]\n",
    "\n",
    "        parity[4] = ndat[1] * ndat[2] * ndat[4] * ndat[6] * ndat[7] * \\\n",
    "                    ndat[8] * ndat[10] * ndat[11] * ndat[15] * ndat[16] * \\\n",
    "                    ndat[17] * ndat[18] * ndat[19] * ndat[22] * ndat[23] * \\\n",
    "                    ndat[25]\n",
    "\n",
    "        parity[5] = ndat[0] * ndat[4] * ndat[6] * ndat[7] * ndat[9] * \\\n",
    "                    ndat[10] * ndat[11] * ndat[12] * ndat[14] * ndat[16] * \\\n",
    "                    ndat[20] * ndat[23] * ndat[24] * ndat[25]\n",
    "\n",
    "        # --- Compare if the received parity is equal the calculated parity --------\n",
    "        if (parity == ndat[26:]).sum() == 6:\n",
    "            # Parity is OK. Function output is -1 or 1 depending if the data bits\n",
    "            # must be inverted or not. The \"ndat[2]\" is D30* bit - the last  bit of\n",
    "            # previous subframe.\n",
    "            status = -1 * ndat[1]\n",
    "\n",
    "        else:\n",
    "            # Parity failure\n",
    "            status = 0\n",
    "\n",
    "        return status\n"
   ]
  },
  {
   "cell_type": "code",
   "execution_count": 6,
   "metadata": {},
   "outputs": [],
   "source": [
    "def findPreambles(trackResults):\n",
    "    # findPreambles finds the first preamble occurrence in the bit stream of\n",
    "    # each channel. The preamble is verified by check of the spacing between\n",
    "    # preambles (6sec) and parity checking of the first two words in a\n",
    "    # subframe. At the same time function returns list of channels, that are in\n",
    "    # tracking state and with valid preambles in the nav data stream.\n",
    "\n",
    "    # [firstSubFrame, activeChnList] = findPreambles(trackResults, settings)\n",
    "\n",
    "    #   Inputs:\n",
    "    #       trackResults    - output from the tracking function\n",
    "    #       settings        - Receiver settings.\n",
    "\n",
    "    #   Outputs:\n",
    "    #       firstSubframe   - the array contains positions of the first\n",
    "    #                       preamble in each channel. The position is ms count\n",
    "    #                       since start of tracking. Corresponding value will\n",
    "    #                       be set to 0 if no valid preambles were detected in\n",
    "    #                       the channel.\n",
    "    #       activeChnList   - list of channels containing valid preambles\n",
    "\n",
    "    # Preamble search can be delayed to a later point in the tracking results\n",
    "    # to avoid noise due to tracking loop transients\n",
    "    searchStartOffset = 0\n",
    "\n",
    "    # --- Initialize the firstSubFrame array -----------------------------------\n",
    "    firstSubFrame = np.zeros(len(trackResults), dtype=int)\n",
    "\n",
    "    # --- Generate the preamble pattern ----------------------------------------\n",
    "    preamble_bits = np.r_[1, - 1, - 1, - 1, 1, - 1, 1, 1]\n",
    "\n",
    "    # \"Upsample\" the preamble - make 20 vales per one bit. The preamble must be\n",
    "    # found with precision of a sample.\n",
    "    preamble_ms = np.kron(preamble_bits, np.ones(20))\n",
    "\n",
    "    # --- Make a list of channels excluding not tracking channels --------------\n",
    "    activeChnList = (trackResults.status != b'-').nonzero()[0]\n",
    "\n",
    "    # === For all tracking channels ...\n",
    "    for channelNr in range(len(activeChnList)):\n",
    "        # Correlate tracking output with preamble ================================\n",
    "        # Read output from tracking. It contains the navigation bits. The start\n",
    "        # of record is skipped here to avoid tracking loop transients.\n",
    "        bits = trackResults[channelNr].I_P[searchStartOffset:].copy()\n",
    "\n",
    "        bits[bits > 0] = 1\n",
    "\n",
    "        bits[bits <= 0] = - 1\n",
    "\n",
    "        # have to zero pad the preamble so that they are the same length\n",
    "        tlmXcorrResult = np.correlate(bits,\n",
    "                                      np.pad(preamble_ms, (0, bits.size - preamble_ms.size), 'constant'),\n",
    "                                      mode='full')\n",
    "\n",
    "        # Find all starting points off all preamble like patterns ================\n",
    "        # clear('index')\n",
    "        # clear('index2')\n",
    "        xcorrLength = (len(tlmXcorrResult) + 1) // 2\n",
    "\n",
    "        index = (np.abs(tlmXcorrResult[xcorrLength - 1:xcorrLength * 2]) > 153).nonzero()[0] + searchStartOffset\n",
    "\n",
    "        # Analyze detected preamble like patterns ================================\n",
    "        for i in range(len(index)):\n",
    "            index2 = index - index[i]\n",
    "\n",
    "            if (index2 == 6000).any():\n",
    "                # === Re-read bit vales for preamble verification ==============\n",
    "                # Preamble occurrence is verified by checking the parity of\n",
    "                # the first two words in the subframe. Now it is assumed that\n",
    "                # bit boundaries a known. Therefore the bit values over 20ms are\n",
    "                # combined to increase receiver performance for noisy signals.\n",
    "                # in Total 62 bits mast be read :\n",
    "                # 2 bits from previous subframe are needed for parity checking;\n",
    "                # 60 bits for the first two 30bit words (TLM and HOW words).\n",
    "                # The index is pointing at the start of TLM word.\n",
    "                bits = trackResults[channelNr].I_P[index[i] - 40:index[i] + 20 * 60].copy()\n",
    "\n",
    "                bits = bits.reshape(20, -1, order='F')\n",
    "\n",
    "                bits = bits.sum(0)\n",
    "\n",
    "                bits[bits > 0] = 1\n",
    "\n",
    "                bits[bits <= 0] = - 1\n",
    "\n",
    "                if navPartyChk(bits[:32]) != 0 and navPartyChk(bits[30:62]) != 0:\n",
    "                    # Parity was OK. Record the preamble start position. Skip\n",
    "                    # the rest of preamble pattern checking for this channel\n",
    "                    # and process next channel.\n",
    "                    firstSubFrame[channelNr] = index[i]\n",
    "\n",
    "                    break\n",
    "        # Exclude channel from the active channel list if no valid preamble was\n",
    "        # detected\n",
    "        if firstSubFrame[channelNr] == 0:\n",
    "            # Exclude channel from further processing. It does not contain any\n",
    "            # valid preamble and therefore nothing more can be done for it.\n",
    "            activeChnList = np.setdiff1d(activeChnList, channelNr)\n",
    "\n",
    "            print ('Could not find valid preambles in channel %2d !' % channelNr)\n",
    "    return firstSubFrame, activeChnList"
   ]
  },
  {
   "cell_type": "code",
   "execution_count": 7,
   "metadata": {},
   "outputs": [],
   "source": [
    "## Obtain each channel data and the starting position of data bits\n",
    "subFrameStart,activeChnList = findPreambles(trackResults)"
   ]
  },
  {
   "cell_type": "code",
   "execution_count": 8,
   "metadata": {},
   "outputs": [
    {
     "data": {
      "text/plain": [
       "[<matplotlib.lines.Line2D at 0x7f4cec0763d0>]"
      ]
     },
     "execution_count": 8,
     "metadata": {},
     "output_type": "execute_result"
    },
    {
     "data": {
      "image/png": "[encoded data removed]",
      "text/plain": [
       "<Figure size 432x288 with 1 Axes>"
      ]
     },
     "metadata": {
      "needs_background": "light"
     },
     "output_type": "display_data"
    }
   ],
   "source": [
    "channelNr = 0\n",
    "bitLoc = subFrameStart[channelNr]\n",
    "## Clean data Bits\n",
    "bits = trackResults[channelNr].I_P[bitLoc:].copy()\n",
    "bits[bits > 0] = 1\n",
    "bits[bits <= 0] = - 1\n",
    "plt.plot(bits[:100],'.')"
   ]
  },
  {
   "cell_type": "code",
   "execution_count": 9,
   "metadata": {},
   "outputs": [],
   "source": [
    "field_str = 'weekNumber,accuracy,health,T_GD,IODC,t_oc,a_f2,a_f1,a_f0,'\n",
    "field_str += 'IODE_sf2,C_rs,deltan,M_0,C_uc,e,C_us,sqrtA,t_oe,'\n",
    "field_str += 'C_ic,omega_0,C_is,i_0,C_rc,omega,omegaDot,IODE_sf3,iDot'\n",
    "eph = np.recarray((32,), formats=['O'] * 27, names=field_str)"
   ]
  },
  {
   "cell_type": "code",
   "execution_count": 10,
   "metadata": {},
   "outputs": [],
   "source": [
    "channelNr = 0\n",
    "#for channelNr in activeChnList:\n",
    "navBitsSamples = trackResults[channelNr].I_P[subFrameStart[channelNr] - 20:\n",
    "                                                     subFrameStart[channelNr] + 1500 * 20].copy()"
   ]
  },
  {
   "cell_type": "code",
   "execution_count": 11,
   "metadata": {},
   "outputs": [],
   "source": [
    "navBitsSamples = navBitsSamples.reshape(20, -1, order='F')\n",
    "navBits = navBitsSamples.sum(0)\n",
    "navBits = (navBits > 0) * 1"
   ]
  },
  {
   "cell_type": "code",
   "execution_count": 12,
   "metadata": {},
   "outputs": [
    {
     "data": {
      "text/plain": [
       "[<matplotlib.lines.Line2D at 0x7f4cdc4441c0>]"
      ]
     },
     "execution_count": 12,
     "metadata": {},
     "output_type": "execute_result"
    },
    {
     "data": {
      "image/png": "[encoded data removed]",
      "text/plain": [
       "<Figure size 432x288 with 1 Axes>"
      ]
     },
     "metadata": {
      "needs_background": "light"
     },
     "output_type": "display_data"
    }
   ],
   "source": [
    "plt.plot(navBits[:20],'.')"
   ]
  },
  {
   "cell_type": "code",
   "execution_count": 13,
   "metadata": {},
   "outputs": [],
   "source": [
    "import ephemeris"
   ]
  },
  {
   "cell_type": "code",
   "execution_count": 14,
   "metadata": {},
   "outputs": [],
   "source": [
    "# Decode ephemerides =====================================================\n",
    "field_str = 'weekNumber,accuracy,health,T_GD,IODC,t_oc,a_f2,a_f1,a_f0,'\n",
    "field_str += 'IODE_sf2,C_rs,deltan,M_0,C_uc,e,C_us,sqrtA,t_oe,'\n",
    "field_str += 'C_ic,omega_0,C_is,i_0,C_rc,omega,omegaDot,IODE_sf3,iDot'\n",
    "eph = np.recarray((32,), formats=['O'] * 27, names=field_str)\n",
    "for channelNr in activeChnList:\n",
    "    # === Convert tracking output to navigation bits =======================\n",
    "    # --- Copy 5 sub-frames long record from tracking output ---------------\n",
    "    navBitsSamples = trackResults[channelNr].I_P[subFrameStart[channelNr] - 20:\n",
    "                                                 subFrameStart[channelNr] + 1500 * 20].copy()\n",
    "\n",
    "    navBitsSamples = navBitsSamples.reshape(20, -1, order='F')\n",
    "\n",
    "    navBits = navBitsSamples.sum(0)\n",
    "\n",
    "    # The expression (navBits > 0) returns an array with elements set to 1\n",
    "    # if the condition is met and set to 0 if it is not met.\n",
    "    navBits = (navBits > 0) * 1\n",
    "\n",
    "    # The function ephemeris expects input in binary form. In Matlab it is\n",
    "    # a string array containing only \"0\" and \"1\" characters.\n",
    "    navBitsBin = list(map(str, navBits))\n",
    "\n",
    "    eph[trackResults[channelNr].PRN - 1], TOW = ephemeris.ephemeris(navBitsBin[1:], navBitsBin[0])\n",
    "\n",
    "    if eph[trackResults[channelNr].PRN - 1].IODC is None or \\\n",
    "            eph[trackResults[channelNr].PRN - 1].IODE_sf2 is None or \\\n",
    "            eph[trackResults[channelNr].PRN - 1].IODE_sf3 is None:\n",
    "        # --- Exclude channel from the list (from further processing) ------\n",
    "        activeChnList = np.setdiff1d(activeChnList, channelNr)\n",
    "\n",
    "transmitTime = TOW"
   ]
  },
  {
   "cell_type": "code",
   "execution_count": 15,
   "metadata": {},
   "outputs": [
    {
     "data": {
      "text/plain": [
       "587454"
      ]
     },
     "execution_count": 15,
     "metadata": {},
     "output_type": "execute_result"
    }
   ],
   "source": [
    "TOW"
   ]
  },
  {
   "cell_type": "markdown",
   "metadata": {},
   "source": [
    "## Obtained Ephemeris Data"
   ]
  },
  {
   "cell_type": "code",
   "execution_count": 16,
   "metadata": {},
   "outputs": [
    {
     "data": {
      "text/plain": [
       "rec.array([(None, None, None, None, None, None, None, None, None, None, None, None, None, None, None, None, None, None, None, None, None, None, None, None, None, None, None),\n",
       "           (None, None, None, None, None, None, None, None, None, None, None, None, None, None, None, None, None, None, None, None, None, None, None, None, None, None, None),\n",
       "           (1321, 0, 0, -4.190951585769653e-09, 503, 590384, 0.0, 3.296918293926865e-12, 0.00010679662227630615, 85, 42.84375, 4.9302053628427535e-09, 1.6538727585988888, 2.261251211166382e-06, 0.006752743385732174, 1.2351199984550476e-05, 5153.635257720947, 590384, -1.2293457984924316e-07, -0.09233881716237433, 5.960464477539063e-08, 0.9274761104056594, 121.59375, 0.5958616266113392, -8.207127574091831e-09, 85, -3.057270204718485e-10),\n",
       "           (None, None, None, None, None, None, None, None, None, None, None, None, None, None, None, None, None, None, None, None, None, None, None, None, None, None, None),\n",
       "           (None, None, None, None, None, None, None, None, None, None, None, None, None, None, None, None, None, None, None, None, None, None, None, None, None, None, None),\n",
       "           (1321, 0, 0, -4.6566128730773926e-09, 502, 590400, 0.0, 5.0590642786119133e-11, 0.0004765358753502369, 83, 70.875, 4.7191251419328674e-09, -0.30145329840845597, 3.7103891372680664e-06, 0.00639992649666965, 1.2036412954330444e-05, 5153.563844680786, 590400, -4.284083843231201e-08, -0.036748810826905856, 1.0617077350616455e-07, 0.9350026688541725, 135.53125, -1.926313917701005, -8.134624554050025e-09, 83, -1.5929234945145378e-10),\n",
       "           (None, None, None, None, None, None, None, None, None, None, None, None, None, None, None, None, None, None, None, None, None, None, None, None, None, None, None),\n",
       "           (None, None, None, None, None, None, None, None, None, None, None, None, None, None, None, None, None, None, None, None, None, None, None, None, None, None, None),\n",
       "           (1321, 1, 0, -5.587935447692871e-09, 756, 590400, 0.0, -1.7053025658242404e-12, -4.227878525853157e-05, 164, 36.46875, 5.031281001620245e-09, -0.6673275739691902, 2.0917505025863647e-06, 0.016684173489920795, 6.759539246559143e-06, 5153.662576675415, 590400, -8.381903171539307e-08, -2.1406362819791758, 2.7008354663848877e-07, 0.9554143961588313, 247.03125, 1.1382087838559416, -8.512497436829482e-09, 164, 4.55376111100008e-10),\n",
       "           (None, None, None, None, None, None, None, None, None, None, None, None, None, None, None, None, None, None, None, None, None, None, None, None, None, None, None),\n",
       "           (None, None, None, None, None, None, None, None, None, None, None, None, None, None, None, None, None, None, None, None, None, None, None, None, None, None, None),\n",
       "           (None, None, None, None, None, None, None, None, None, None, None, None, None, None, None, None, None, None, None, None, None, None, None, None, None, None, None),\n",
       "           (None, None, None, None, None, None, None, None, None, None, None, None, None, None, None, None, None, None, None, None, None, None, None, None, None, None, None),\n",
       "           (None, None, None, None, None, None, None, None, None, None, None, None, None, None, None, None, None, None, None, None, None, None, None, None, None, None, None),\n",
       "           (1321, 1, 0, -2.7939677238464355e-09, 250, 590400, 0.0, 5.343281372915953e-12, 0.00042775925248861313, 169, 96.25, 4.806628786810908e-09, -0.33825178554457946, 4.82611358165741e-06, 0.00912147096823901, 2.5816261768341064e-06, 5153.549310684204, 590400, -3.5390257835388184e-08, 1.113253290050884, -1.5832483768463135e-07, 0.9617965225714421, 329.125, 2.3960378657602988, -8.5839289836687e-09, 169, 4.064455015151444e-10),\n",
       "           (None, None, None, None, None, None, None, None, None, None, None, None, None, None, None, None, None, None, None, None, None, None, None, None, None, None, None),\n",
       "           (None, None, None, None, None, None, None, None, None, None, None, None, None, None, None, None, None, None, None, None, None, None, None, None, None, None, None),\n",
       "           (1321, 0, 0, -1.0244548320770264e-08, 490, 590400, 0.0, -3.410605131648481e-12, -0.00015218276530504227, 191, -113.625, 4.726268296616789e-09, -1.869413544920657, -5.8300793170928955e-06, 0.005856757517904043, 3.593042492866516e-06, 5153.597860336304, 590400, 7.450580596923828e-08, 2.13047496418236, -3.3527612686157227e-08, 0.9615654590495761, 309.59375, -2.8131870016047764, -8.388563703063442e-09, 191, -2.835832409516913e-10),\n",
       "           (None, None, None, None, None, None, None, None, None, None, None, None, None, None, None, None, None, None, None, None, None, None, None, None, None, None, None),\n",
       "           (None, None, None, None, None, None, None, None, None, None, None, None, None, None, None, None, None, None, None, None, None, None, None, None, None, None, None),\n",
       "           (1321, 1, 0, -1.1641532182693481e-08, 487, 590400, 0.0, 1.9326762412674725e-12, 0.00010179728269577026, 45, 97.15625, 5.083426030812873e-09, -0.4479158230233504, 5.070120096206665e-06, 0.009839744423516095, 2.421438694000244e-06, 5153.6319580078125, 590400, 1.7508864402770996e-07, 1.0810757412696768, -5.960464477539063e-08, 0.9483513398970446, 324.59375, -3.138082767868972, -8.706434086497957e-09, 45, 3.7608709410847717e-10),\n",
       "           (1321, 2, 0, -1.816079020500183e-08, 473, 590400, 0.0, 7.958078640513122e-13, 2.2018328309059143e-05, 44, -115.71875, 4.8162720456342025e-09, 2.620382956828128, -5.939975380897522e-06, 0.004725061357021332, 3.1869858503341675e-06, 5153.681644439697, 590400, 8.009374141693115e-08, 2.139478035607851, -7.450580596923828e-09, 0.95901826119999, 317.34375, -1.5072976185502522, -8.352847929643834e-09, 44, -3.846588797291832e-10),\n",
       "           (None, None, None, None, None, None, None, None, None, None, None, None, None, None, None, None, None, None, None, None, None, None, None, None, None, None, None),\n",
       "           (None, None, None, None, None, None, None, None, None, None, None, None, None, None, None, None, None, None, None, None, None, None, None, None, None, None, None),\n",
       "           (None, None, None, None, None, None, None, None, None, None, None, None, None, None, None, None, None, None, None, None, None, None, None, None, None, None, None),\n",
       "           (1321, 0, 0, -6.05359673500061e-09, 499, 590400, 0.0, 1.0231815394945443e-12, 2.2032298147678375e-05, 140, -61.5625, 3.762656729755752e-09, 1.1289011782368077, -2.8889626264572144e-06, 0.0164188725175336, 1.2412667274475098e-05, 5153.575479507446, 590400, -1.5832483768463135e-07, -3.133395532992539, 1.6391277313232422e-07, 0.9865527654711853, 158.28125, 0.6846128449186781, -7.705320957546331e-09, 140, -6.893144269984435e-11),\n",
       "           (None, None, None, None, None, None, None, None, None, None, None, None, None, None, None, None, None, None, None, None, None, None, None, None, None, None, None),\n",
       "           (None, None, None, None, None, None, None, None, None, None, None, None, None, None, None, None, None, None, None, None, None, None, None, None, None, None, None),\n",
       "           (None, None, None, None, None, None, None, None, None, None, None, None, None, None, None, None, None, None, None, None, None, None, None, None, None, None, None),\n",
       "           (None, None, None, None, None, None, None, None, None, None, None, None, None, None, None, None, None, None, None, None, None, None, None, None, None, None, None),\n",
       "           (None, None, None, None, None, None, None, None, None, None, None, None, None, None, None, None, None, None, None, None, None, None, None, None, None, None, None),\n",
       "           (None, None, None, None, None, None, None, None, None, None, None, None, None, None, None, None, None, None, None, None, None, None, None, None, None, None, None)],\n",
       "          dtype=[('weekNumber', 'O'), ('accuracy', 'O'), ('health', 'O'), ('T_GD', 'O'), ('IODC', 'O'), ('t_oc', 'O'), ('a_f2', 'O'), ('a_f1', 'O'), ('a_f0', 'O'), ('IODE_sf2', 'O'), ('C_rs', 'O'), ('deltan', 'O'), ('M_0', 'O'), ('C_uc', 'O'), ('e', 'O'), ('C_us', 'O'), ('sqrtA', 'O'), ('t_oe', 'O'), ('C_ic', 'O'), ('omega_0', 'O'), ('C_is', 'O'), ('i_0', 'O'), ('C_rc', 'O'), ('omega', 'O'), ('omegaDot', 'O'), ('IODE_sf3', 'O'), ('iDot', 'O')])"
      ]
     },
     "execution_count": 16,
     "metadata": {},
     "output_type": "execute_result"
    }
   ],
   "source": [
    "eph"
   ]
  }
 ],
 "metadata": {
  "kernelspec": {
   "display_name": "Python 3",
   "language": "python",
   "name": "python3"
  },
  "language_info": {
   "codemirror_mode": {
    "name": "ipython",
    "version": 3
   },
   "file_extension": ".py",
   "mimetype": "text/x-python",
   "name": "python",
   "nbconvert_exporter": "python",
   "pygments_lexer": "ipython3",
   "version": "3.8.3"
  }
 },
 "nbformat": 4,
 "nbformat_minor": 4
}
